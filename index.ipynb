{
 "cells": [
  {
   "cell_type": "markdown",
   "metadata": {},
   "source": [
    "![](https://i.warosu.org/data/sci/img/0072/12/1429803412520.jpg)"
   ]
  },
  {
   "cell_type": "code",
   "execution_count": 7,
   "metadata": {
    "collapsed": false
   },
   "outputs": [],
   "source": [
    "import numtraits\n",
    "from ipywidgets import widgets\n",
    "from pint import UnitRegistry\n",
    "import traitlets\n",
    "from traitlets import link\n",
    "ureg = UnitRegistry()"
   ]
  },
  {
   "cell_type": "code",
   "execution_count": 8,
   "metadata": {
    "collapsed": false
   },
   "outputs": [],
   "source": [
    "Q_ = ureg.Quantity\n",
    "ureg.define('hogsheads = 238 * liters = hhd')\n",
    "rphhd = ureg.rod / ureg.hogsheads\n",
    "mpl = ureg.meter / ureg.liter"
   ]
  },
  {
   "cell_type": "code",
   "execution_count": 9,
   "metadata": {
    "collapsed": false
   },
   "outputs": [],
   "source": [
    "class RodsPerHogsheadFloatSlider(widgets.FloatSlider):\n",
    "    num_value = numtraits.NumericalTrait(convertible_to=rphhd)\n",
    "    \n",
    "    def _value_changed(self, old, new):\n",
    "       self.num_value =  new * rphhd\n",
    "    \n",
    "    def _num_value_changed(self, old, new):\n",
    "       self.value =  new / rphhd"
   ]
  },
  {
   "cell_type": "code",
   "execution_count": 17,
   "metadata": {
    "collapsed": false
   },
   "outputs": [],
   "source": [
    "class MetersPerLiterFloatSlider(widgets.FloatSlider):\n",
    "    num_value = numtraits.NumericalTrait(convertible_to=mpl)\n",
    "    \n",
    "    def _value_changed(self, old, new):\n",
    "       self.num_value =  new * mpl\n",
    "    \n",
    "    def _num_value_changed(self, old, new):\n",
    "       self.value =  new / mpl"
   ]
  },
  {
   "cell_type": "code",
   "execution_count": 11,
   "metadata": {
    "collapsed": false
   },
   "outputs": [],
   "source": [
    "rphhdfs = RodsPerHogsheadFloatSlider(description=\"rods per hogshead\")\n",
    "rphhdfs.num_value = 40 * rphhd"
   ]
  },
  {
   "cell_type": "code",
   "execution_count": 12,
   "metadata": {
    "collapsed": false
   },
   "outputs": [],
   "source": [
    "mplfs = MetersPerLiterFloatSlider(description=\"meters per liter\")"
   ]
  },
  {
   "cell_type": "code",
   "execution_count": 13,
   "metadata": {
    "collapsed": false
   },
   "outputs": [
    {
     "data": {
      "text/plain": [
       "<traitlets.traitlets.link at 0x6dbfc50>"
      ]
     },
     "execution_count": 13,
     "metadata": {},
     "output_type": "execute_result"
    }
   ],
   "source": [
    "link((rphhdfs, \"num_value\"), (mplfs, \"num_value\"))"
   ]
  },
  {
   "cell_type": "code",
   "execution_count": 14,
   "metadata": {
    "collapsed": true
   },
   "outputs": [],
   "source": [
    "mplfs"
   ]
  },
  {
   "cell_type": "code",
   "execution_count": 15,
   "metadata": {
    "collapsed": true
   },
   "outputs": [],
   "source": [
    "rphhdfs"
   ]
  },
  {
   "cell_type": "code",
   "execution_count": 26,
   "metadata": {
    "collapsed": true
   },
   "outputs": [],
   "source": [
    "def make_slider(unit):\n",
    "    class AutoUnitSlider(widgets.FloatSlider):\n",
    "        description = traitlets.Unicode(str(unit.units), sync=True)\n",
    "        num_value = numtraits.NumericalTrait(convertible_to=unit)\n",
    "\n",
    "        def _value_changed(self, old, new):\n",
    "           self.num_value =  new * unit\n",
    "\n",
    "        def _num_value_changed(self, old, new):\n",
    "           self.value =  new / unit\n",
    "    return AutoUnitSlider"
   ]
  },
  {
   "cell_type": "code",
   "execution_count": 27,
   "metadata": {
    "collapsed": true
   },
   "outputs": [],
   "source": [
    "make_slider(rphhd)()"
   ]
  }
 ],
 "metadata": {
  "kernelspec": {
   "display_name": "Python 3",
   "language": "python",
   "name": "python3"
  },
  "language_info": {
   "codemirror_mode": {
    "name": "ipython",
    "version": 3
   },
   "file_extension": ".py",
   "mimetype": "text/x-python",
   "name": "python",
   "nbconvert_exporter": "python",
   "pygments_lexer": "ipython3",
   "version": "3.4.3"
  }
 },
 "nbformat": 4,
 "nbformat_minor": 0
}
